{
 "cells": [
  {
   "cell_type": "markdown",
   "id": "2ec94498",
   "metadata": {},
   "source": [
    "# DCS 550 Data Mining (DSC550-T302 2227-1)\n",
    "## Bellevue University\n",
    "## 10.2 Exercise: Building a CNN Image Classifier\n",
    "## Author: Jake Meyer\n",
    "## Date: 8/10/2022"
   ]
  },
  {
   "cell_type": "markdown",
   "id": "86b7c8f0",
   "metadata": {},
   "source": [
    "## Assignment Instructions:\n",
    "In this exercise,  you will build a convolutional neural network (CNN) to classify handwritten digits from the MNIST dataset. The steps to build a CNN classifier are outlined in section 20.15 of the Machine Learning with Python Cookbook, but keep in mind that your code may need to be modified depending on your version of Keras."
   ]
  },
  {
   "cell_type": "markdown",
   "id": "57f93c06",
   "metadata": {},
   "source": [
    "<ol>\n",
    "    <li> Load the MNIST data set.\n",
    "    <li> Display the first five images in the training data set (see section 8.1 in the Machine Learning with Python Cookbook. Compare these to the first five training labels.\n",
    "    <li> Build and train a Keras CNN classifier on the MNIST training set.\n",
    "    <li> Report the test accuracy of your model.\n",
    "    <li> Display a confusion matrix on the test set classifications.\n",
    "    <li> Summarize your results.\n",
    "<ol>"
   ]
  },
  {
   "cell_type": "code",
   "execution_count": 1,
   "id": "6127650f",
   "metadata": {},
   "outputs": [
    {
     "name": "stdout",
     "output_type": "stream",
     "text": [
      "Requirement already satisfied: OpenCV-python in c:\\users\\jkmey\\anaconda3\\lib\\site-packages (4.6.0.66)\n",
      "Requirement already satisfied: numpy>=1.14.5 in c:\\users\\jkmey\\anaconda3\\lib\\site-packages (from OpenCV-python) (1.20.3)\n",
      "Requirement already satisfied: keras in c:\\users\\jkmey\\anaconda3\\lib\\site-packages (2.9.0)\n",
      "Requirement already satisfied: keras-tqdm in c:\\users\\jkmey\\anaconda3\\lib\\site-packages (2.0.1)\n",
      "Requirement already satisfied: Keras in c:\\users\\jkmey\\anaconda3\\lib\\site-packages (from keras-tqdm) (2.9.0)\n",
      "Requirement already satisfied: tqdm in c:\\users\\jkmey\\anaconda3\\lib\\site-packages (from keras-tqdm) (4.62.3)\n",
      "Requirement already satisfied: colorama in c:\\users\\jkmey\\anaconda3\\lib\\site-packages (from tqdm->keras-tqdm) (0.4.4)\n",
      "Requirement already satisfied: tensorflow in c:\\users\\jkmey\\anaconda3\\lib\\site-packages (2.9.1)\n",
      "Requirement already satisfied: tensorflow-io-gcs-filesystem>=0.23.1 in c:\\users\\jkmey\\anaconda3\\lib\\site-packages (from tensorflow) (0.26.0)\n",
      "Requirement already satisfied: google-pasta>=0.1.1 in c:\\users\\jkmey\\anaconda3\\lib\\site-packages (from tensorflow) (0.2.0)\n",
      "Requirement already satisfied: grpcio<2.0,>=1.24.3 in c:\\users\\jkmey\\anaconda3\\lib\\site-packages (from tensorflow) (1.47.0)\n",
      "Requirement already satisfied: opt-einsum>=2.3.2 in c:\\users\\jkmey\\anaconda3\\lib\\site-packages (from tensorflow) (3.3.0)\n",
      "Requirement already satisfied: wrapt>=1.11.0 in c:\\users\\jkmey\\anaconda3\\lib\\site-packages (from tensorflow) (1.12.1)\n",
      "Requirement already satisfied: protobuf<3.20,>=3.9.2 in c:\\users\\jkmey\\anaconda3\\lib\\site-packages (from tensorflow) (3.19.4)\n",
      "Requirement already satisfied: typing-extensions>=3.6.6 in c:\\users\\jkmey\\anaconda3\\lib\\site-packages (from tensorflow) (3.10.0.2)\n",
      "Requirement already satisfied: tensorboard<2.10,>=2.9 in c:\\users\\jkmey\\anaconda3\\lib\\site-packages (from tensorflow) (2.9.1)\n",
      "Requirement already satisfied: six>=1.12.0 in c:\\users\\jkmey\\anaconda3\\lib\\site-packages (from tensorflow) (1.16.0)\n",
      "Requirement already satisfied: absl-py>=1.0.0 in c:\\users\\jkmey\\anaconda3\\lib\\site-packages (from tensorflow) (1.2.0)\n",
      "Requirement already satisfied: termcolor>=1.1.0 in c:\\users\\jkmey\\anaconda3\\lib\\site-packages (from tensorflow) (1.1.0)\n",
      "Requirement already satisfied: tensorflow-estimator<2.10.0,>=2.9.0rc0 in c:\\users\\jkmey\\anaconda3\\lib\\site-packages (from tensorflow) (2.9.0)\n",
      "Requirement already satisfied: h5py>=2.9.0 in c:\\users\\jkmey\\anaconda3\\lib\\site-packages (from tensorflow) (3.2.1)\n",
      "Requirement already satisfied: gast<=0.4.0,>=0.2.1 in c:\\users\\jkmey\\anaconda3\\lib\\site-packages (from tensorflow) (0.4.0)\n",
      "Requirement already satisfied: numpy>=1.20 in c:\\users\\jkmey\\anaconda3\\lib\\site-packages (from tensorflow) (1.20.3)\n",
      "Requirement already satisfied: libclang>=13.0.0 in c:\\users\\jkmey\\anaconda3\\lib\\site-packages (from tensorflow) (14.0.6)\n",
      "Requirement already satisfied: keras<2.10.0,>=2.9.0rc0 in c:\\users\\jkmey\\anaconda3\\lib\\site-packages (from tensorflow) (2.9.0)\n",
      "Requirement already satisfied: packaging in c:\\users\\jkmey\\anaconda3\\lib\\site-packages (from tensorflow) (21.0)\n",
      "Requirement already satisfied: setuptools in c:\\users\\jkmey\\anaconda3\\lib\\site-packages (from tensorflow) (58.0.4)\n",
      "Requirement already satisfied: flatbuffers<2,>=1.12 in c:\\users\\jkmey\\anaconda3\\lib\\site-packages (from tensorflow) (1.12)\n",
      "Requirement already satisfied: astunparse>=1.6.0 in c:\\users\\jkmey\\anaconda3\\lib\\site-packages (from tensorflow) (1.6.3)\n",
      "Requirement already satisfied: keras-preprocessing>=1.1.1 in c:\\users\\jkmey\\anaconda3\\lib\\site-packages (from tensorflow) (1.1.2)\n",
      "Requirement already satisfied: wheel<1.0,>=0.23.0 in c:\\users\\jkmey\\anaconda3\\lib\\site-packages (from astunparse>=1.6.0->tensorflow) (0.37.0)\n",
      "Requirement already satisfied: markdown>=2.6.8 in c:\\users\\jkmey\\anaconda3\\lib\\site-packages (from tensorboard<2.10,>=2.9->tensorflow) (3.4.1)\n",
      "Requirement already satisfied: google-auth<3,>=1.6.3 in c:\\users\\jkmey\\anaconda3\\lib\\site-packages (from tensorboard<2.10,>=2.9->tensorflow) (2.10.0)\n",
      "Requirement already satisfied: requests<3,>=2.21.0 in c:\\users\\jkmey\\anaconda3\\lib\\site-packages (from tensorboard<2.10,>=2.9->tensorflow) (2.26.0)\n",
      "Requirement already satisfied: tensorboard-data-server<0.7.0,>=0.6.0 in c:\\users\\jkmey\\anaconda3\\lib\\site-packages (from tensorboard<2.10,>=2.9->tensorflow) (0.6.1)\n",
      "Requirement already satisfied: google-auth-oauthlib<0.5,>=0.4.1 in c:\\users\\jkmey\\anaconda3\\lib\\site-packages (from tensorboard<2.10,>=2.9->tensorflow) (0.4.6)\n",
      "Requirement already satisfied: tensorboard-plugin-wit>=1.6.0 in c:\\users\\jkmey\\anaconda3\\lib\\site-packages (from tensorboard<2.10,>=2.9->tensorflow) (1.8.1)\n",
      "Requirement already satisfied: werkzeug>=1.0.1 in c:\\users\\jkmey\\anaconda3\\lib\\site-packages (from tensorboard<2.10,>=2.9->tensorflow) (2.0.2)\n",
      "Requirement already satisfied: cachetools<6.0,>=2.0.0 in c:\\users\\jkmey\\anaconda3\\lib\\site-packages (from google-auth<3,>=1.6.3->tensorboard<2.10,>=2.9->tensorflow) (5.0.0)\n",
      "Requirement already satisfied: rsa<5,>=3.1.4 in c:\\users\\jkmey\\anaconda3\\lib\\site-packages (from google-auth<3,>=1.6.3->tensorboard<2.10,>=2.9->tensorflow) (4.9)\n",
      "Requirement already satisfied: pyasn1-modules>=0.2.1 in c:\\users\\jkmey\\anaconda3\\lib\\site-packages (from google-auth<3,>=1.6.3->tensorboard<2.10,>=2.9->tensorflow) (0.2.8)\n",
      "Requirement already satisfied: requests-oauthlib>=0.7.0 in c:\\users\\jkmey\\anaconda3\\lib\\site-packages (from google-auth-oauthlib<0.5,>=0.4.1->tensorboard<2.10,>=2.9->tensorflow) (1.3.1)\n",
      "Requirement already satisfied: importlib-metadata>=4.4 in c:\\users\\jkmey\\anaconda3\\lib\\site-packages (from markdown>=2.6.8->tensorboard<2.10,>=2.9->tensorflow) (4.8.1)\n",
      "Requirement already satisfied: zipp>=0.5 in c:\\users\\jkmey\\anaconda3\\lib\\site-packages (from importlib-metadata>=4.4->markdown>=2.6.8->tensorboard<2.10,>=2.9->tensorflow) (3.6.0)\n",
      "Requirement already satisfied: pyasn1<0.5.0,>=0.4.6 in c:\\users\\jkmey\\anaconda3\\lib\\site-packages (from pyasn1-modules>=0.2.1->google-auth<3,>=1.6.3->tensorboard<2.10,>=2.9->tensorflow) (0.4.8)\n",
      "Requirement already satisfied: charset-normalizer~=2.0.0 in c:\\users\\jkmey\\anaconda3\\lib\\site-packages (from requests<3,>=2.21.0->tensorboard<2.10,>=2.9->tensorflow) (2.0.4)\n",
      "Requirement already satisfied: certifi>=2017.4.17 in c:\\users\\jkmey\\anaconda3\\lib\\site-packages (from requests<3,>=2.21.0->tensorboard<2.10,>=2.9->tensorflow) (2021.10.8)\n",
      "Requirement already satisfied: urllib3<1.27,>=1.21.1 in c:\\users\\jkmey\\anaconda3\\lib\\site-packages (from requests<3,>=2.21.0->tensorboard<2.10,>=2.9->tensorflow) (1.25.11)\n",
      "Requirement already satisfied: idna<4,>=2.5 in c:\\users\\jkmey\\anaconda3\\lib\\site-packages (from requests<3,>=2.21.0->tensorboard<2.10,>=2.9->tensorflow) (3.2)\n",
      "Requirement already satisfied: oauthlib>=3.0.0 in c:\\users\\jkmey\\anaconda3\\lib\\site-packages (from requests-oauthlib>=0.7.0->google-auth-oauthlib<0.5,>=0.4.1->tensorboard<2.10,>=2.9->tensorflow) (3.2.0)\n",
      "Requirement already satisfied: pyparsing>=2.0.2 in c:\\users\\jkmey\\anaconda3\\lib\\site-packages (from packaging->tensorflow) (3.0.4)\n",
      "Requirement already satisfied: graphviz in c:\\users\\jkmey\\anaconda3\\lib\\site-packages (0.20.1)\n",
      "Requirement already satisfied: pydot in c:\\users\\jkmey\\anaconda3\\lib\\site-packages (1.4.2)\n",
      "Requirement already satisfied: pyparsing>=2.1.4 in c:\\users\\jkmey\\anaconda3\\lib\\site-packages (from pydot) (3.0.4)\n"
     ]
    }
   ],
   "source": [
    "'''\n",
    "Install OpenCV-python, keras, keras-tqdm, tensorflow, graphviz, and pydot.\n",
    "'''\n",
    "import sys\n",
    "!{sys.executable} -m pip install OpenCV-python\n",
    "!{sys.executable} -m pip install keras\n",
    "!{sys.executable} -m pip install keras-tqdm\n",
    "!{sys.executable} -m pip install tensorflow\n",
    "!{sys.executable} -m pip install graphviz\n",
    "!{sys.executable} -m pip install pydot"
   ]
  },
  {
   "cell_type": "code",
   "execution_count": 28,
   "id": "6452c85f",
   "metadata": {},
   "outputs": [],
   "source": [
    "'''\n",
    "Import the necessary libraries to complete Exercise 10.2.\n",
    "'''\n",
    "import numpy as np\n",
    "import pandas as pd\n",
    "import cv2\n",
    "import os\n",
    "import matplotlib as mpl\n",
    "import graphviz\n",
    "import pydot\n",
    "from matplotlib import pyplot as plt\n",
    "%matplotlib inline\n",
    "import keras\n",
    "import seaborn as sns\n",
    "from numpy import unique, argmax\n",
    "from sklearn import metrics\n",
    "from sklearn.metrics import confusion_matrix\n",
    "from keras.datasets import mnist\n",
    "from keras.models import Sequential\n",
    "from keras.layers import Dense,  Dropout, Flatten\n",
    "from keras.layers.convolutional import Conv2D, MaxPooling2D\n",
    "from keras.utils import np_utils\n",
    "from keras.utils.vis_utils import plot_model\n",
    "from keras import backend as K\n",
    "from keras_tqdm import TQDMNotebookCallback\n",
    "from tqdm import tqdm\n",
    "import tensorflow as tf\n",
    "os.environ['TF_CPP_MIN_LOG_LEVEL'] = '3'"
   ]
  },
  {
   "cell_type": "code",
   "execution_count": 3,
   "id": "289b853c",
   "metadata": {},
   "outputs": [
    {
     "name": "stdout",
     "output_type": "stream",
     "text": [
      "numpy version: 1.20.3\n",
      "cv2 version: 4.6.0\n",
      "matplotlib version: 3.4.3\n",
      "keras version: 2.9.0\n"
     ]
    }
   ],
   "source": [
    "'''\n",
    "Check the versions of the packages.\n",
    "'''\n",
    "print('numpy version:', np.__version__)\n",
    "print('cv2 version:', cv2.__version__)\n",
    "print('matplotlib version:', mpl.__version__)\n",
    "print('keras version:', keras.__version__)"
   ]
  },
  {
   "cell_type": "markdown",
   "id": "4ea91e5e",
   "metadata": {},
   "source": [
    "### Part 1 - Load the MNIST data set."
   ]
  },
  {
   "cell_type": "code",
   "execution_count": 4,
   "id": "d90d92c9",
   "metadata": {},
   "outputs": [],
   "source": [
    "'''\n",
    "Load data and target from MNIST data and split into train and test data sets.\n",
    "'''\n",
    "(x_train, y_train), (x_test, y_test) = mnist.load_data()"
   ]
  },
  {
   "cell_type": "markdown",
   "id": "cc64c0ec",
   "metadata": {},
   "source": [
    "### Part 2 - Display the first five images in the training data set (see section 8.1 in the Machine Learning with Python Cookbook). Compare these to the first five training labels. <br>"
   ]
  },
  {
   "cell_type": "code",
   "execution_count": 5,
   "id": "bd13e425",
   "metadata": {},
   "outputs": [
    {
     "data": {
      "image/png": "[encoded data removed]",
      "text/plain": [
       "<Figure size 432x288 with 1 Axes>"
      ]
     },
     "metadata": {
      "needs_background": "light"
     },
     "output_type": "display_data"
    },
    {
     "data": {
      "image/png": "[encoded data removed]",
      "text/plain": [
       "<Figure size 432x288 with 1 Axes>"
      ]
     },
     "metadata": {
      "needs_background": "light"
     },
     "output_type": "display_data"
    },
    {
     "data": {
      "image/png": "[encoded data removed]",
      "text/plain": [
       "<Figure size 432x288 with 1 Axes>"
      ]
     },
     "metadata": {
      "needs_background": "light"
     },
     "output_type": "display_data"
    },
    {
     "data": {
      "image/png": "[encoded data removed]",
      "text/plain": [
       "<Figure size 432x288 with 1 Axes>"
      ]
     },
     "metadata": {
      "needs_background": "light"
     },
     "output_type": "display_data"
    },
    {
     "data": {
      "image/png": "[encoded data removed]",
      "text/plain": [
       "<Figure size 432x288 with 1 Axes>"
      ]
     },
     "metadata": {
      "needs_background": "light"
     },
     "output_type": "display_data"
    }
   ],
   "source": [
    "'''\n",
    "Display the first 5 images in the training data set.\n",
    "'''\n",
    "for i in range(5):\n",
    "    plt.subplot(330 + 1 + i)\n",
    "    plt.imshow(x_train[i], cmap=plt.get_cmap('gray'))\n",
    "    plt.show()"
   ]
  },
  {
   "cell_type": "markdown",
   "id": "be293312",
   "metadata": {},
   "source": [
    "### Part 3 - Build and train a Keras CNN classifier on the MNIST training set."
   ]
  },
  {
   "cell_type": "code",
   "execution_count": 8,
   "id": "65f44312",
   "metadata": {},
   "outputs": [],
   "source": [
    "'''\n",
    "Reshape the training and test data.\n",
    "'''\n",
    "x_train = x_train.reshape((x_train.shape[0], x_train.shape[1], x_train.shape[2], 1))\n",
    "x_test = x_test.reshape((x_test.shape[0], x_test.shape[1], x_test.shape[2], 1))"
   ]
  },
  {
   "cell_type": "code",
   "execution_count": 9,
   "id": "f8a8f1f5",
   "metadata": {},
   "outputs": [],
   "source": [
    "'''\n",
    "Normalize the values of pixels of images.\n",
    "'''\n",
    "x_train = x_train.astype('float32') / 255\n",
    "x_test = x_test.astype('float32') / 255"
   ]
  },
  {
   "cell_type": "code",
   "execution_count": 10,
   "id": "bb09a66e",
   "metadata": {},
   "outputs": [
    {
     "name": "stdout",
     "output_type": "stream",
     "text": [
      "(28, 28, 1)\n"
     ]
    }
   ],
   "source": [
    "'''\n",
    "Determine the shape of the input images.\n",
    "'''\n",
    "img_shape = x_train.shape[1:]\n",
    "print(img_shape)"
   ]
  },
  {
   "cell_type": "code",
   "execution_count": 14,
   "id": "7c95146e",
   "metadata": {},
   "outputs": [],
   "source": [
    "'''\n",
    "Build the model.\n",
    "'''\n",
    "model = Sequential()\n",
    "model.add(Conv2D(32, (3,3), activation = 'relu', input_shape = img_shape))\n",
    "model.add(MaxPooling2D((2,2)))\n",
    "model.add(Conv2D(48, (3,3), activation = 'relu'))\n",
    "model.add(MaxPooling2D((2,2)))\n",
    "model.add(Dropout(0.5))\n",
    "model.add(Flatten())\n",
    "model.add(Dense(500, activation = 'relu'))\n",
    "model.add(Dense(10, activation = 'softmax'))"
   ]
  },
  {
   "cell_type": "code",
   "execution_count": 15,
   "id": "3dde8b6f",
   "metadata": {},
   "outputs": [
    {
     "name": "stdout",
     "output_type": "stream",
     "text": [
      "Model: \"sequential_3\"\n",
      "_________________________________________________________________\n",
      " Layer (type)                Output Shape              Param #   \n",
      "=================================================================\n",
      " conv2d_3 (Conv2D)           (None, 26, 26, 32)        320       \n",
      "                                                                 \n",
      " max_pooling2d_1 (MaxPooling  (None, 13, 13, 32)       0         \n",
      " 2D)                                                             \n",
      "                                                                 \n",
      " conv2d_4 (Conv2D)           (None, 11, 11, 48)        13872     \n",
      "                                                                 \n",
      " max_pooling2d_2 (MaxPooling  (None, 5, 5, 48)         0         \n",
      " 2D)                                                             \n",
      "                                                                 \n",
      " dropout (Dropout)           (None, 5, 5, 48)          0         \n",
      "                                                                 \n",
      " flatten (Flatten)           (None, 1200)              0         \n",
      "                                                                 \n",
      " dense (Dense)               (None, 500)               600500    \n",
      "                                                                 \n",
      " dense_1 (Dense)             (None, 10)                5010      \n",
      "                                                                 \n",
      "=================================================================\n",
      "Total params: 619,702\n",
      "Trainable params: 619,702\n",
      "Non-trainable params: 0\n",
      "_________________________________________________________________\n",
      "None\n"
     ]
    }
   ],
   "source": [
    "'''\n",
    "View the model summary.\n",
    "'''\n",
    "print(model.summary())"
   ]
  },
  {
   "cell_type": "code",
   "execution_count": 17,
   "id": "17848882",
   "metadata": {},
   "outputs": [
    {
     "name": "stdout",
     "output_type": "stream",
     "text": [
      "Epoch 1/10\n",
      "422/422 - 11s - loss: 0.2500 - accuracy: 0.9242 - val_loss: 0.0583 - val_accuracy: 0.9832 - 11s/epoch - 26ms/step\n",
      "Epoch 2/10\n",
      "422/422 - 12s - loss: 0.0840 - accuracy: 0.9736 - val_loss: 0.0404 - val_accuracy: 0.9888 - 12s/epoch - 28ms/step\n",
      "Epoch 3/10\n",
      "422/422 - 12s - loss: 0.0602 - accuracy: 0.9816 - val_loss: 0.0393 - val_accuracy: 0.9872 - 12s/epoch - 28ms/step\n",
      "Epoch 4/10\n",
      "422/422 - 11s - loss: 0.0506 - accuracy: 0.9839 - val_loss: 0.0334 - val_accuracy: 0.9905 - 11s/epoch - 27ms/step\n",
      "Epoch 5/10\n",
      "422/422 - 11s - loss: 0.0418 - accuracy: 0.9868 - val_loss: 0.0325 - val_accuracy: 0.9907 - 11s/epoch - 27ms/step\n",
      "Epoch 6/10\n",
      "422/422 - 11s - loss: 0.0357 - accuracy: 0.9876 - val_loss: 0.0270 - val_accuracy: 0.9932 - 11s/epoch - 25ms/step\n",
      "Epoch 7/10\n",
      "422/422 - 10s - loss: 0.0334 - accuracy: 0.9890 - val_loss: 0.0293 - val_accuracy: 0.9925 - 10s/epoch - 24ms/step\n",
      "Epoch 8/10\n",
      "422/422 - 10s - loss: 0.0295 - accuracy: 0.9901 - val_loss: 0.0263 - val_accuracy: 0.9930 - 10s/epoch - 25ms/step\n",
      "Epoch 9/10\n",
      "422/422 - 10s - loss: 0.0261 - accuracy: 0.9914 - val_loss: 0.0258 - val_accuracy: 0.9935 - 10s/epoch - 25ms/step\n",
      "Epoch 10/10\n",
      "422/422 - 10s - loss: 0.0242 - accuracy: 0.9925 - val_loss: 0.0253 - val_accuracy: 0.9938 - 10s/epoch - 24ms/step\n"
     ]
    }
   ],
   "source": [
    "'''\n",
    "Compile the model.\n",
    "Train the model.\n",
    "'''\n",
    "model.compile(optimizer = 'adam', loss = 'sparse_categorical_crossentropy', metrics = ['accuracy'])\n",
    "history = model.fit(x_train, y_train, epochs = 10, batch_size = 128, verbose = 2, validation_split = 0.1)"
   ]
  },
  {
   "cell_type": "markdown",
   "id": "bf60454f",
   "metadata": {},
   "source": [
    "### Part 4 - Report the test accuracy of your model."
   ]
  },
  {
   "cell_type": "code",
   "execution_count": 20,
   "id": "75c17e52",
   "metadata": {},
   "outputs": [
    {
     "name": "stdout",
     "output_type": "stream",
     "text": [
      "Accuracy on test set: 99.37%\n"
     ]
    }
   ],
   "source": [
    "'''\n",
    "Show the model accuracy on the test data.\n",
    "'''\n",
    "loss, accuracy = model.evaluate(x_test, y_test, verbose = 0)\n",
    "print(\"Accuracy on test set: {}%\".format(round(accuracy*100,2)))"
   ]
  },
  {
   "cell_type": "markdown",
   "id": "33460a5c",
   "metadata": {},
   "source": [
    "### Part 5 - Display a confusion matrix on the test set classifications."
   ]
  },
  {
   "cell_type": "code",
   "execution_count": 40,
   "id": "32b1914c",
   "metadata": {},
   "outputs": [],
   "source": [
    "'''\n",
    "Predictions for the x_test data.\n",
    "'''\n",
    "y_predicted = model.predict(x_test, verbose = 0)\n",
    "y_pred = np.argmax(y_predicted, axis = 1)"
   ]
  },
  {
   "cell_type": "code",
   "execution_count": 41,
   "id": "400899c8",
   "metadata": {},
   "outputs": [
    {
     "name": "stdout",
     "output_type": "stream",
     "text": [
      "Confusion Matrix of Test set predictions: \n",
      " [[ 976    0    1    0    1    0    1    1    0    0]\n",
      " [   0 1132    0    0    0    0    1    2    0    0]\n",
      " [   1    0 1027    0    0    0    0    4    0    0]\n",
      " [   0    0    1 1004    0    2    0    1    2    0]\n",
      " [   0    0    0    0  976    0    3    1    0    2]\n",
      " [   0    0    0    5    0  886    1    0    0    0]\n",
      " [   2    1    0    0    1    3  951    0    0    0]\n",
      " [   0    1    6    0    0    0    0 1019    0    2]\n",
      " [   1    0    1    0    0    0    0    1  970    1]\n",
      " [   0    0    0    0    4    5    0    2    2  996]]\n"
     ]
    }
   ],
   "source": [
    "'''\n",
    "Create a confusion matrix from sklearn with confusion_matrix().\n",
    "'''\n",
    "confus_mat = confusion_matrix(y_test, y_pred)\n",
    "print('Confusion Matrix of Test set predictions: \\n', confus_mat)"
   ]
  },
  {
   "cell_type": "code",
   "execution_count": 42,
   "id": "853774f0",
   "metadata": {},
   "outputs": [
    {
     "data": {
      "text/plain": [
       "Text(33.0, 0.5, 'Predicted Label')"
      ]
     },
     "execution_count": 42,
     "metadata": {},
     "output_type": "execute_result"
    },
    {
     "data": {
      "image/png": "[encoded data removed]",
      "text/plain": [
       "<Figure size 432x360 with 2 Axes>"
      ]
     },
     "metadata": {
      "needs_background": "light"
     },
     "output_type": "display_data"
    }
   ],
   "source": [
    "'''\n",
    "Try to create a confusion matrix graph.\n",
    "'''\n",
    "plt.figure(figsize=(6,5))\n",
    "sns.heatmap(confus_mat, annot=True, fmt='d')\n",
    "plt.title('Confustion Matrix of Test Set')\n",
    "plt.xlabel('True Label')\n",
    "plt.ylabel('Predicted Label')"
   ]
  },
  {
   "cell_type": "markdown",
   "id": "2f9bd6e7",
   "metadata": {},
   "source": [
    "### Part 6 - Summarize your results."
   ]
  },
  {
   "cell_type": "markdown",
   "id": "d5f21e35",
   "metadata": {},
   "source": [
    "This week's assignment consisted of creating a CNN model to classify handwritten numbers from the MNIST dataset. The main highlights from the analysis are highlighted below:<br>\n",
    "$\\bullet$ The Convolutional Neural Network (CNN) had an accuracy of 99.37% on the test data set.  <br>\n",
    "$\\bullet$ Each number had at least one misclassification based on the confusion matrix. <br>\n",
    "$\\bullet$ The number with the most incorrect classifications was 9 (14 missclassifications). <br>\n",
    "$\\bullet$ The number with the least incorrect classifications was 1 (3 missclassifications). <br>\n",
    "$\\bullet$ The numbers 4, 5, 7 and 8 were misclassified as a 9 (14 times total). <br>\n",
    "$\\bullet$ The number 2 was misclassified as a 7 (6 times). <br>\n",
    "$\\bullet$ The number 3 was often misclassified as a 5 (5 times). <br>"
   ]
  }
 ],
 "metadata": {
  "kernelspec": {
   "display_name": "Python 3 (ipykernel)",
   "language": "python",
   "name": "python3"
  },
  "language_info": {
   "codemirror_mode": {
    "name": "ipython",
    "version": 3
   },
   "file_extension": ".py",
   "mimetype": "text/x-python",
   "name": "python",
   "nbconvert_exporter": "python",
   "pygments_lexer": "ipython3",
   "version": "3.9.7"
  }
 },
 "nbformat": 4,
 "nbformat_minor": 5
}
